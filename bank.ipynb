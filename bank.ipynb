{
 "cells": [
  {
   "cell_type": "code",
   "execution_count": null,
   "id": "ff18684a-bc47-46ec-ae47-add28d43ffbe",
   "metadata": {},
   "outputs": [],
   "source": [
    "class BankAccount:\n",
    "    def __init__(self, account_number, account_holder, initial_balance=0):\n",
    "        self.account_number = account_number\n",
    "        self.account_holder = account_holder\n",
    "        self.balance = initial_balance\n",
    "    \n",
    "    def deposit(self, amount):\n",
    "        if amount > 0:\n",
    "            self.balance += amount\n",
    "            print(f\"Deposited ${amount}. Current balance: ${self.balance}\")\n",
    "        else:\n",
    "            print(\"Invalid deposit amount. Please deposit a positive amount.\")\n",
    "    \n",
    "    def withdraw(self, amount):\n",
    "        if 0 < amount <= self.balance:\n",
    "            self.balance -= amount\n",
    "            print(f\"Withdrew ${amount}. Current balance: ${self.balance}\")\n",
    "        else:\n",
    "            print(\"Invalid withdrawal amount or insufficient balance.\")\n",
    "    \n",
    "    def check_balance(self):\n",
    "        print(f\"Current balance: ${self.balance}\")\n",
    "\n",
    "# Example usage:\n",
    "account1 = BankAccount(\"123456789\", \"John Doe\", 1000)\n",
    "account1.check_balance()  # Output: Current balance: $1000\n",
    "\n",
    "account1.deposit(500)  # Output: Deposited $500. Current balance: $1500\n",
    "account1.withdraw(200) # Output: Withdrew $200. Current balance: $1300\n",
    "account1.check_balance()  # Output: Current balance: $1300\n",
    "\n",
    "account1.withdraw(1500) # Output: Invalid withdrawal amount or insufficient balance.\n",
    "\n",
    "\n"
   ]
  },
  {
   "cell_type": "code",
   "execution_count": null,
   "id": "f4391de9-cc26-4f3c-8a64-8be7f42b4afa",
   "metadata": {},
   "outputs": [],
   "source": []
  }
 ],
 "metadata": {
  "kernelspec": {
   "display_name": "Python 3 (ipykernel)",
   "language": "python",
   "name": "python3"
  },
  "language_info": {
   "codemirror_mode": {
    "name": "ipython",
    "version": 3
   },
   "file_extension": ".py",
   "mimetype": "text/x-python",
   "name": "python",
   "nbconvert_exporter": "python",
   "pygments_lexer": "ipython3",
   "version": "3.11.7"
  }
 },
 "nbformat": 4,
 "nbformat_minor": 5
}
