{
 "cells": [
  {
   "cell_type": "code",
   "execution_count": null,
   "id": "f4391de9-cc26-4f3c-8a64-8be7f42b4afa",
   "metadata": {},
   "outputs": [],
   "source": [
    "class BankAccount:\n",
    "    def __init__(self, username, password):\n",
    "        self.username = username\n",
    "        self.password = password\n",
    "        self.balance = 0\n",
    "    \n",
    "    def login(self, username, password):\n",
    "        return self.username == username and self.password == password\n",
    "    \n",
    "    def deposit(self, amount):\n",
    "        self.balance += amount\n",
    "        return f\"Deposited {amount} successfully. Current balance: {self.balance}\"\n",
    "    \n",
    "    def withdraw(self, amount):\n",
    "        if amount <= self.balance:\n",
    "            self.balance -= amount\n",
    "            return f\"Withdrawn {amount} successfully. Current balance: {self.balance}\"\n",
    "        else:\n",
    "            return \"Insufficient funds\"\n",
    "    \n",
    "    def check_balance(self):\n",
    "        return f\"Current balance: {self.balance}\"\n",
    "\n",
    "# Example usage:\n",
    "account = BankAccount(\"user123\", \"pass123\")\n",
    "\n",
    "# Login\n",
    "username = input(\"Enter username: \")\n",
    "password = input(\"Enter password: \")\n",
    "if account.login(username, password):\n",
    "    print(\"Login successful\")\n",
    "else:\n",
    "    print(\"Invalid credentials\")\n",
    "    exit()\n",
    "\n",
    "# Menu\n",
    "while True:\n",
    "    print(\"\\n1. Deposit\\n2. Withdraw\\n3. Check Balance\\n4. Exit\")\n",
    "    choice = input(\"Enter your choice: \")\n",
    "    \n",
    "    if choice == \"1\":\n",
    "        amount = float(input(\"Enter amount to deposit: \"))\n",
    "        print(account.deposit(amount))\n",
    "    elif choice == \"2\":\n",
    "        amount = float(input(\"Enter amount to withdraw: \"))\n",
    "        print(account.withdraw(amount))\n",
    "    elif choice == \"3\":\n",
    "        print(account.check_balance())\n",
    "    elif choice == \"4\":\n",
    "        print(\"Thank you for using our banking system. Goodbye!\")\n",
    "        break\n",
    "    else:\n",
    "        print(\"Invalid choice\")\n"
   ]
  }
 ],
 "metadata": {
  "kernelspec": {
   "display_name": "Python 3 (ipykernel)",
   "language": "python",
   "name": "python3"
  },
  "language_info": {
   "codemirror_mode": {
    "name": "ipython",
    "version": 3
   },
   "file_extension": ".py",
   "mimetype": "text/x-python",
   "name": "python",
   "nbconvert_exporter": "python",
   "pygments_lexer": "ipython3",
   "version": "3.11.7"
  }
 },
 "nbformat": 4,
 "nbformat_minor": 5
}
